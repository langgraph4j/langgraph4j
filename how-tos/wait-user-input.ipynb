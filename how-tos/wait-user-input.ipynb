{
 "cells": [
  {
   "cell_type": "markdown",
   "metadata": {},
   "source": [
    "# Wait for User Input"
   ]
  },
  {
   "cell_type": "code",
   "execution_count": 1,
   "metadata": {},
   "outputs": [],
   "source": [
    "var userHomeDir = System.getProperty(\"user.home\");\n",
    "var localRespoUrl = \"file://\" + userHomeDir + \"/.m2/repository/\";\n",
    "var langchain4jVersion = \"1.0.1\";\n",
    "var langchain4jbeta = \"1.0.1-beta6\";\n",
    "var langgraph4jVersion = \"1.6-SNAPSHOT\";"
   ]
  },
  {
   "cell_type": "code",
   "execution_count": 2,
   "metadata": {},
   "outputs": [],
   "source": [
    "%%bash \n",
    "rm -rf \\{userHomeDir}/Library/Jupyter/kernels/rapaio-jupyter-kernel/mima_cache/org/bsc/langgraph4j"
   ]
  },
  {
   "cell_type": "code",
   "execution_count": null,
   "metadata": {},
   "outputs": [],
   "source": [
    "%dependency /add-repo local \\{localRespoUrl} release|never snapshot|always\n",
    "// %dependency /list-repos\n",
    "%dependency /add org.bsc.langgraph4j:langgraph4j-core:\\{langgraph4jVersion}\n",
    "%dependency /add org.bsc.langgraph4j:langgraph4j-postgres-saver:\\{langgraph4jVersion}\n",
    "%dependency /add org.bsc.langgraph4j:langgraph4j-langchain4j:\\{langgraph4jVersion}\n",
    "%dependency /add dev.langchain4j:langchain4j:\\{langchain4jVersion}\n",
    "// %dependency /add dev.langchain4j:langchain4j-open-ai:\\{langchain4jVersion}\n",
    "%dependency /add dev.langchain4j:langchain4j-ollama:\\{langchain4jbeta}\n",
    "%dependency /add net.sourceforge.plantuml:plantuml-mit:1.2024.6\n",
    "%dependency /list-dependencies\n",
    "%dependency /resolve"
   ]
  },
  {
   "cell_type": "markdown",
   "metadata": {},
   "source": [
    "**utility to render graph respresentation in PlantUML**"
   ]
  },
  {
   "cell_type": "code",
   "execution_count": 4,
   "metadata": {},
   "outputs": [],
   "source": [
    "import net.sourceforge.plantuml.SourceStringReader;\n",
    "import net.sourceforge.plantuml.FileFormatOption;\n",
    "import net.sourceforge.plantuml.FileFormat;\n",
    "import org.bsc.langgraph4j.GraphRepresentation;\n",
    "\n",
    "void displayDiagram( GraphRepresentation representation ) throws IOException { \n",
    "    \n",
    "    var reader = new SourceStringReader(representation.getContent());\n",
    "\n",
    "    try(var imageOutStream = new java.io.ByteArrayOutputStream()) {\n",
    "\n",
    "        var description = reader.outputImage( imageOutStream, 0, new FileFormatOption(FileFormat.PNG));\n",
    "\n",
    "        var imageInStream = new java.io.ByteArrayInputStream(  imageOutStream.toByteArray() );\n",
    "\n",
    "        var image = javax.imageio.ImageIO.read( imageInStream );\n",
    "\n",
    "        display(  image );\n",
    "\n",
    "    }\n",
    "}\n"
   ]
  },
  {
   "cell_type": "markdown",
   "metadata": {},
   "source": [
    "## Define graph with interruption"
   ]
  },
  {
   "cell_type": "code",
   "execution_count": null,
   "metadata": {},
   "outputs": [
    {
     "name": "stderr",
     "output_type": "stream",
     "text": [
      "SLF4J: No SLF4J providers were found.\n",
      "SLF4J: Defaulting to no-operation (NOP) logger implementation\n",
      "SLF4J: See https://www.slf4j.org/codes.html#noProviders for further details.\n"
     ]
    },
    {
     "data": {
      "image/png": "[encoded data removed]"
     },
     "metadata": {},
     "output_type": "display_data"
    }
   ],
   "source": [
    "import org.bsc.langgraph4j.*;\n",
    "import org.bsc.langgraph4j.prebuilt.MessagesState;\n",
    "import org.bsc.langgraph4j.state.Channel;\n",
    "import dev.langchain4j.data.message.AiMessage;\n",
    "import dev.langchain4j.data.message.ChatMessage;\n",
    "import org.bsc.langgraph4j.action.AsyncNodeAction;\n",
    "import org.bsc.langgraph4j.action.AsyncEdgeAction;\n",
    "import static org.bsc.langgraph4j.action.AsyncNodeAction.node_async;\n",
    "import static org.bsc.langgraph4j.action.AsyncEdgeAction.edge_async;\n",
    "import org.bsc.langgraph4j.checkpoint.MemorySaver;\n",
    "import org.bsc.langgraph4j.checkpoint.PostgresSaver;\n",
    "import org.bsc.langgraph4j.CompileConfig;\n",
    "import static org.bsc.langgraph4j.StateGraph.END;\n",
    "import static org.bsc.langgraph4j.StateGraph.START;\n",
    "\n",
    "public class State extends MessagesState<String> {\n",
    "\n",
    "    public State(Map<String, Object> initData) {\n",
    "        super( initData  );\n",
    "    }\n",
    "\n",
    "    public Optional<String> humanFeedback() {\n",
    "        return value(\"human_feedback\");\n",
    "    }\n",
    "\n",
    "}\n",
    "\n",
    "AsyncNodeAction<State> step1 = node_async( state -> {\n",
    "    return Map.of( \"messages\", \"Step 1\" );\n",
    "});\n",
    "\n",
    "AsyncNodeAction<State> humanFeedback = node_async( state -> {\n",
    "    return Map.of();\n",
    "});\n",
    "\n",
    "AsyncNodeAction<State> step3 = node_async( state -> {\n",
    "    return Map.of( \"messages\", \"Step 3\" );\n",
    "});\n",
    "\n",
    "AsyncEdgeAction<State> evalHumanFeedback = edge_async( state -> {\n",
    "    var feedback = state.humanFeedback().orElseThrow();\n",
    "    return ( feedback.equals(\"next\") || feedback.equals(\"back\") ) ? feedback : \"unknown\";\n",
    "});\n",
    "\n",
    "var builder = new StateGraph<>(State.SCHEMA, State::new)\n",
    "    .addNode(\"step_1\", step1)\n",
    "    .addNode(\"human_feedback\", humanFeedback)\n",
    "    .addNode(\"step_3\", step3)\n",
    "    .addEdge(START, \"step_1\")\n",
    "    .addEdge(\"step_1\", \"human_feedback\")\n",
    "    .addConditionalEdges(\"human_feedback\", evalHumanFeedback, \n",
    "        Map.of( \"back\", \"step_1\", \"next\", \"step_3\", \"unknown\", \"human_feedback\" ))\n",
    "    .addEdge(\"step_3\", END)\n",
    "    ;\n",
    "\n",
    "// Set up memory\n",
    "// var saver = new MemorySaver();\n",
    "\n",
    "// Set up Postgres saver\n",
    "var saver = PostgresSaver.builder()\n",
    "                .host(\"localhost\")\n",
    "                .port(5432)\n",
    "                .user(\"admin\")\n",
    "                .password(\"bsorrentino\")\n",
    "                .database(\"lg4j-store\")\n",
    "                .stateSerializer( builder.getStateSerializer() ) \n",
    "                .dropTablesFirst(true)\n",
    "                .build();\n",
    "\n",
    "// Add\n",
    "var compileConfig = CompileConfig.builder()\n",
    "                        .checkpointSaver(saver)\n",
    "                        .interruptBefore(\"human_feedback\")\n",
    "                        .releaseThread(true)\n",
    "                        .build();\n",
    "\n",
    "var graph = builder.compile(compileConfig);\n",
    "\n",
    "\n",
    "displayDiagram( graph.getGraph(GraphRepresentation.Type.PLANTUML, \"Human in the Loop\", false) );\n"
   ]
  },
  {
   "cell_type": "markdown",
   "metadata": {},
   "source": [
    "## Start graph until interruption"
   ]
  },
  {
   "cell_type": "code",
   "execution_count": 6,
   "metadata": {},
   "outputs": [
    {
     "name": "stdout",
     "output_type": "stream",
     "text": [
      "NodeOutput{node=__START__, state={messages=[Step 0]}}\n",
      "NodeOutput{node=step_1, state={messages=[Step 0, Step 1]}}\n"
     ]
    }
   ],
   "source": [
    "// Input\n",
    "Map<String,Object> initialInput = Map.of(\"messages\", \"Step 0\");\n",
    "\n",
    "// Thread\n",
    "var invokeConfig = RunnableConfig.builder()\n",
    "                        .threadId(\"Thread1\")\n",
    "                        .build();\n",
    "\n",
    "// Run the graph until the first interruption\n",
    "for (var event : graph.stream(initialInput, invokeConfig)) {\n",
    "    System.out.println(event);\n",
    "}\n"
   ]
  },
  {
   "cell_type": "markdown",
   "metadata": {},
   "source": [
    "## Wait for user input and update state\n",
    "\n",
    "⚠️ The Java notebook, until now, doesn't support user input (take a look [issue #39](https://github.com/padreati/rapaio-jupyter-kernel/issues/39)) so we could simulate input ⚠️"
   ]
  },
  {
   "cell_type": "code",
   "execution_count": 7,
   "metadata": {},
   "outputs": [
    {
     "name": "stdout",
     "output_type": "stream",
     "text": [
      "--State before update--\n",
      "StateSnapshot{node=step_1, state={messages=[Step 0, Step 1]}, config=RunnableConfig{ threadId=Thread1, checkPointId=aad18e62-4a40-467c-ac95-e673fcc68370, nextNode=human_feedback, streamMode=VALUES }}\n",
      "\n",
      "--User Input--\n",
      "Tell me how you want to update the state: 'back'\n",
      "\n",
      "--State after update--\n",
      "StateSnapshot{node=step_1, state={messages=[Step 0, Step 1], human_feedback=back}, config=RunnableConfig{ threadId=Thread1, checkPointId=d0679149-1f9b-4725-8e2c-0345f4ed25d6, nextNode=human_feedback, streamMode=VALUES }}\n",
      "\n",
      "getNext()\n",
      "\twith invokeConfig:[human_feedback]\n",
      "\twith updateConfig:[human_feedback]\n"
     ]
    }
   ],
   "source": [
    "\n",
    "// We can check the state\n",
    "System.out.printf(\"--State before update--\\n%s\\n\", graph.getState(invokeConfig));\n",
    "\n",
    "// Simulate user input\n",
    "var userInput = \"back\"; // back means we want to go back to the previous node\n",
    "System.out.printf(\"\\n--User Input--\\nTell me how you want to update the state: '%s'\\n\\n\", userInput);\n",
    "\n",
    "// We now update the state as if we are the human_feedback node\n",
    "var updateConfig = graph.updateState(invokeConfig, Map.of(\"human_feedback\", userInput), null);\n",
    "\n",
    "// We can check the state\n",
    "System.out.printf(\"--State after update--\\n%s\\n\", graph.getState(invokeConfig) );\n",
    "\n",
    "// We can check the next node, showing that it is node 3 (which follows human_feedback)\n",
    "System.out.printf(\"\\ngetNext()\\n\\twith invokeConfig:[%s]\\n\\twith updateConfig:[%s]\\n\", \n",
    "            graph.getState(invokeConfig).getNext(),  \n",
    "            graph.getState(updateConfig).getNext());\n",
    ";"
   ]
  },
  {
   "cell_type": "markdown",
   "metadata": {},
   "source": [
    "## Continue graph execution after interruption"
   ]
  },
  {
   "cell_type": "code",
   "execution_count": 8,
   "metadata": {},
   "outputs": [
    {
     "name": "stdout",
     "output_type": "stream",
     "text": [
      "NodeOutput{node=human_feedback, state={messages=[Step 0, Step 1], human_feedback=back}}\n",
      "NodeOutput{node=step_1, state={messages=[Step 0, Step 1], human_feedback=back}}\n"
     ]
    }
   ],
   "source": [
    "// Continue the graph execution\n",
    "for (var event : graph.stream(null, updateConfig)) {\n",
    "    System.out.println(event);\n",
    "}"
   ]
  },
  {
   "cell_type": "markdown",
   "metadata": {},
   "source": [
    "## Waif for user input (again) and update state\n",
    "\n",
    "⚠️ The Java notebook, until now, doesn't support user input (take a look [issue #39](https://github.com/padreati/rapaio-jupyter-kernel/issues/39)) so we could simulate input ⚠️"
   ]
  },
  {
   "cell_type": "code",
   "execution_count": 9,
   "metadata": {},
   "outputs": [
    {
     "name": "stdout",
     "output_type": "stream",
     "text": [
      "\n",
      "--User Input--\n",
      "Tell me how you want to update the state: 'next'\n",
      "\n",
      "getNext()\n",
      "\twith invokeConfig:[human_feedback]\n",
      "\twith updateConfig:[human_feedback]\n"
     ]
    }
   ],
   "source": [
    "var userInput = \"next\"; // 'next' means we want to go to the next node\n",
    "System.out.printf(\"\\n--User Input--\\nTell me how you want to update the state: '%s'\\n\", userInput);\n",
    "\n",
    "// We now update the state as if we are the human_feedback node\n",
    "var updateConfig = graph.updateState(invokeConfig, Map.of(\"human_feedback\", userInput), null);\n",
    "\n",
    "System.out.printf(\"\\ngetNext()\\n\\twith invokeConfig:[%s]\\n\\twith updateConfig:[%s]\\n\", \n",
    "            graph.getState(invokeConfig).getNext(),  \n",
    "            graph.getState(updateConfig).getNext());\n",
    "            ;   \n"
   ]
  },
  {
   "cell_type": "markdown",
   "metadata": {},
   "source": [
    "## Continue graph execution after the 2nd interruption"
   ]
  },
  {
   "cell_type": "code",
   "execution_count": 10,
   "metadata": {},
   "outputs": [
    {
     "name": "stdout",
     "output_type": "stream",
     "text": [
      "NodeOutput{node=human_feedback, state={messages=[Step 0, Step 1], human_feedback=next}}\n",
      "NodeOutput{node=step_3, state={messages=[Step 0, Step 1, Step 3], human_feedback=next}}\n",
      "NodeOutput{node=__END__, state={messages=[Step 0, Step 1, Step 3], human_feedback=next}}\n"
     ]
    }
   ],
   "source": [
    "// Continue the graph execution\n",
    "for (var event : graph.stream(null, updateConfig)) {\n",
    "    System.out.println(event);\n",
    "}"
   ]
  }
 ],
 "metadata": {
  "kernelspec": {
   "display_name": "Java (rjk 2.2.0)",
   "language": "java",
   "name": "rapaio-jupyter-kernel"
  },
  "language_info": {
   "codemirror_mode": "java",
   "file_extension": ".jshell",
   "mimetype": "text/x-java-source",
   "name": "java",
   "nbconvert_exporter": "script",
   "pygments_lexer": "java",
   "version": "22.0.2+9-70"
  }
 },
 "nbformat": 4,
 "nbformat_minor": 2
}
